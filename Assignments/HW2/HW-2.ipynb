{
  "cells": [
    {
      "cell_type": "code",
      "source": [
        "github_username = \"lanvu301\"\n",
        "\n",
        "# 2. Name of the repo (don't change unless your fork name is different)\n",
        "repo_name = \"STAT-7220-Applied-Experimental-Design\"\n",
        "\n",
        "# 3. Build the full repo URL for cloning\n",
        "repo_url = f\"https://github.com/{github_username}/{repo_name}.git\"\n",
        "\n",
        "import os\n",
        "\n",
        "# --- Detect if we're already in a repo ---\n",
        "cwd = os.getcwd()\n",
        "if cwd.endswith(repo_name):\n",
        "    print(f\"✅ Already inside repo folder: {cwd}\")\n",
        "else:\n",
        "    # --- If the repo folder exists, check if it's nested ---\n",
        "    if os.path.exists(repo_name):\n",
        "        print(f\"⚠️ Found existing folder '{repo_name}'. Skipping clone to avoid nesting.\")\n",
        "    else:\n",
        "        print(f\"📥 Cloning repo from {repo_url}...\")\n",
        "        os.system(f\"git clone {repo_url}\")\n",
        "\n",
        "    # --- Change to repo directory ---\n",
        "    if os.path.exists(repo_name):\n",
        "        os.chdir(repo_name)\n",
        "        print(f\"📂 Changed directory to: {os.getcwd()}\")\n",
        "    else:\n",
        "        print(\"❌ ERROR: Repo folder not found. Please check your GitHub username.\")\n",
        "\n",
        "# --- Check if this is the instructor's repo instead of student's fork ---\n",
        "# This command needs to be run from within the repository directory\n",
        "remote_url = os.popen(\"git config --get remote.origin.url\").read().strip()\n",
        "\n",
        "if \"abrown9008\" in remote_url:\n",
        "    print(\"⚠️ WARNING: You are working in the instructor's repo, not your fork!\")\n",
        "    print(\"💡 Please fork the repo to your own account and update `github_username` above.\")\n",
        "else:\n",
        "    print(f\"🔗 Connected to fork at: {remote_url}\")\n",
        "\n",
        "# Set Today's Directory #\n",
        "\n",
        "today_dir = \"Comparative Experiments\"\n",
        "os.chdir(today_dir)\n",
        "print(f\"📂 Changed directory to: {os.getcwd()}\")"
      ],
      "metadata": {
        "colab": {
          "base_uri": "https://localhost:8080/"
        },
        "id": "wXJYEESK-ZUw",
        "outputId": "39601a12-dd36-4dca-ae1a-a1725ceb8188"
      },
      "id": "wXJYEESK-ZUw",
      "execution_count": 1,
      "outputs": [
        {
          "output_type": "stream",
          "name": "stdout",
          "text": [
            "📥 Cloning repo from https://github.com/lanvu301/STAT-7220-Applied-Experimental-Design.git...\n",
            "📂 Changed directory to: /content/STAT-7220-Applied-Experimental-Design\n",
            "🔗 Connected to fork at: https://github.com/lanvu301/STAT-7220-Applied-Experimental-Design.git\n",
            "📂 Changed directory to: /content/STAT-7220-Applied-Experimental-Design/Comparative Experiments\n"
          ]
        }
      ]
    },
    {
      "cell_type": "markdown",
      "id": "473cf89b",
      "metadata": {
        "id": "473cf89b"
      },
      "source": [
        "# Homework 2: Randomized Block and Latin Square Designs\n",
        "## Dr. Austin R. Brown\n",
        "### School of Data Science & Analytics\n",
        "### Kennesaw State University\n",
        "\n",
        "**DUE: October 3, 2025**\n",
        "\n",
        "**PART 1 INSTRUCTIONS:** You are an educational researcher interested in comparing different methods for teaching data science to undergraduate students. There are three different methods you are interested in comparing: (1) Direct Instruction (traditional method); (2) Inquiry-Based Learning (teacher facilitates student problem solving); (3) Collaborative Learning (students working in small groups). To compare these methods, you decide to randomly recruit undergraduate data science students to be part of a workshop on hypothesis testing basics. Students will be randomly assigned to one of three workshops, where each workshop employs a different teaching method. At the end of the workshop, students will be given a 50-question quiz where their understanding of hypothesis testing will be assessed. Percentage scores on this quiz serve as the outcome of interest.\n",
        "\n",
        "However, it would be apparent that the prior level of knowledge a student possess about hypothesis testing may serve as a potential confounding variable that you would want to control for. Thus, the Prior Knowledge a given student has about hypothesis testing is categorized into \"High\" and \"Low\". The data from this experiment are contained in the `Data Science Teaching Method.xlsx` file. With these data, your tasks are:\n",
        "\n",
        "**Question 1.** Briefly define the objective of this experiment\n",
        "\n",
        "The objective of this experience is to compare the effectiveness of three different teaching methods on graduate students understanding of hypothesis testing\n",
        "\n",
        "**Question 2.** Specify the outcome variable\n",
        "\n",
        "The student quiz score\n",
        "\n",
        "**Question 3.** Specify the independent variable and blocking factor. What are some possible lurking variables?\n",
        "\n",
        "Independent variable is \"teaching_method\" and the block factor is \"prior_knowledge\"\n",
        "\n",
        "**Question 4.** Briefly explain why a randomized block design would be appropriate here. Similarly, explain why a completely randomized design would not be appropriate.\n",
        "\n",
        "A randomized block design is appropriate because students differ in their prior knowledge which can contribute to their quiz score. Students can have different starting from within the same teaching methods groups\n",
        "\n",
        "**Question 5.** State the null and alternative hypotheses for this experiment.\n",
        "\n",
        "$$ H_0: \\mu_{\\text{1}} = \\mu_{\\text{2}} = μ_{\\text{3}} $$\n",
        "\n",
        "$$ H_1:  At  least 1 \\mu_{\\text{i}} is different $$\n",
        "\n",
        "**Question 6.** Perform appropriate exploratory analysis, including summary statistics **and** data visualizations. Do the results of these analyses support the null or alternative hypothesis more strongly?\n",
        "\n"
      ]
    },
    {
      "cell_type": "code",
      "source": [],
      "metadata": {
        "id": "92yQk8CKIQM0"
      },
      "id": "92yQk8CKIQM0",
      "execution_count": null,
      "outputs": []
    },
    {
      "cell_type": "markdown",
      "source": [],
      "metadata": {
        "id": "gxj8AGSSIQuT"
      },
      "id": "gxj8AGSSIQuT"
    }
  ],
  "metadata": {
    "language_info": {
      "name": "python"
    },
    "colab": {
      "provenance": []
    },
    "kernelspec": {
      "name": "python3",
      "display_name": "Python 3"
    }
  },
  "nbformat": 4,
  "nbformat_minor": 5
}